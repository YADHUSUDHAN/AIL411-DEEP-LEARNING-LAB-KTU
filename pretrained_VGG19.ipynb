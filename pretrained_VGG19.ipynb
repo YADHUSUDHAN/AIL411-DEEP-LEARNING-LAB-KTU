{
  "nbformat": 4,
  "nbformat_minor": 0,
  "metadata": {
    "colab": {
      "provenance": [],
      "gpuType": "T4",
      "authorship_tag": "ABX9TyMXLx6bOQFNYifp2VIB1agr",
      "include_colab_link": true
    },
    "kernelspec": {
      "name": "python3",
      "display_name": "Python 3"
    },
    "language_info": {
      "name": "python"
    },
    "accelerator": "GPU"
  },
  "cells": [
    {
      "cell_type": "markdown",
      "metadata": {
        "id": "view-in-github",
        "colab_type": "text"
      },
      "source": [
        "<a href=\"https://colab.research.google.com/github/YADHUSUDHAN/AIL411-DEEP-LEARNING-LAB-KTU/blob/main/pretrained_VGG19.ipynb\" target=\"_parent\"><img src=\"https://colab.research.google.com/assets/colab-badge.svg\" alt=\"Open In Colab\"/></a>"
      ]
    },
    {
      "cell_type": "markdown",
      "source": [
        "**Importing Libraries**"
      ],
      "metadata": {
        "id": "GsfIFYhGYPgm"
      }
    },
    {
      "cell_type": "code",
      "execution_count": 1,
      "metadata": {
        "id": "bDOsab1hXuWu"
      },
      "outputs": [],
      "source": [
        "import numpy as np\n",
        "import matplotlib.pyplot as plt\n",
        "from keras.datasets import mnist\n",
        "from keras.models import Sequential\n",
        "from keras.layers import Dense, Flatten\n",
        "from keras.applications import VGG19\n",
        "from keras.utils import to_categorical\n",
        "from sklearn.metrics import confusion_matrix\n",
        "import seaborn as sns\n",
        "from keras.preprocessing.image import img_to_array, array_to_img\n",
        "from keras.applications.vgg19 import preprocess_input\n"
      ]
    },
    {
      "cell_type": "markdown",
      "source": [
        "**Loading and Preprocessing the Dataset**"
      ],
      "metadata": {
        "id": "pCWopfKBYo1g"
      }
    },
    {
      "cell_type": "code",
      "source": [
        "(train_images, train_labels), (test_images, test_labels) = mnist.load_data()\n",
        "\n",
        "\n",
        "train_images = np.repeat(np.expand_dims(train_images, axis=-1), 3, axis=-1)\n",
        "test_images = np.repeat(np.expand_dims(test_images, axis=-1), 3, axis=-1)\n",
        "\n",
        "\n",
        "train_images_resized = np.array([img_to_array(array_to_img(img, scale=False).resize((48, 48))) for img in train_images])\n",
        "test_images_resized = np.array([img_to_array(array_to_img(img, scale=False).resize((48, 48))) for img in test_images])\n",
        "\n",
        "\n",
        "train_images_vgg = preprocess_input(train_images_resized)\n",
        "test_images_vgg = preprocess_input(test_images_resized)\n",
        "\n",
        "\n",
        "train_labels = to_categorical(train_labels)\n",
        "test_labels = to_categorical(test_labels)\n",
        "\n"
      ],
      "metadata": {
        "colab": {
          "base_uri": "https://localhost:8080/"
        },
        "id": "lg81ELHLY7Tt",
        "outputId": "677130d7-1e57-48fd-ca1e-e517c9fbe909"
      },
      "execution_count": 2,
      "outputs": [
        {
          "output_type": "stream",
          "name": "stdout",
          "text": [
            "Downloading data from https://storage.googleapis.com/tensorflow/tf-keras-datasets/mnist.npz\n",
            "11490434/11490434 [==============================] - 0s 0us/step\n"
          ]
        }
      ]
    },
    {
      "cell_type": "code",
      "source": [
        "\n",
        "arr = np.array([1, 2, 3])\n",
        "repeated_arr = np.repeat(arr, 3)\n",
        "print(repeated_arr)\n"
      ],
      "metadata": {
        "colab": {
          "base_uri": "https://localhost:8080/"
        },
        "id": "xBgttgbccBkQ",
        "outputId": "364b13cf-ba77-4535-9013-2ed8d8647701"
      },
      "execution_count": 3,
      "outputs": [
        {
          "output_type": "stream",
          "name": "stdout",
          "text": [
            "[1 1 1 2 2 2 3 3 3]\n"
          ]
        }
      ]
    },
    {
      "cell_type": "code",
      "source": [
        "\n",
        "arr = np.array([1, 2, 3])\n",
        "expanded_arr = np.expand_dims(arr, axis=0)\n",
        "print(expanded_arr)\n"
      ],
      "metadata": {
        "colab": {
          "base_uri": "https://localhost:8080/"
        },
        "id": "EQs5ZC9dbsLd",
        "outputId": "1282b447-99ae-4e20-8dc1-51d4e41ab1f2"
      },
      "execution_count": 4,
      "outputs": [
        {
          "output_type": "stream",
          "name": "stdout",
          "text": [
            "[[1 2 3]]\n"
          ]
        }
      ]
    },
    {
      "cell_type": "code",
      "source": [
        "\n",
        "\n",
        "# Sample 2D array (3x3)\n",
        "original_array = np.array([[1, 2, 3],\n",
        "                           [4, 5, 6],\n",
        "                           [7, 8, 9]])\n",
        "\n",
        "# Expand dimensions to make it a 3D array (3x3x1)\n",
        "expanded_array = np.expand_dims(original_array, axis=-1)\n",
        "\n",
        "# Repeat the single channel three times along the last axis (3x3x3)\n",
        "repeated_array = np.repeat(expanded_array, 3, axis=-1)\n",
        "\n",
        "print(\"Original 2D Array:\")\n",
        "print(original_array)\n",
        "print(\"\\nExpanded Array (3D):\")\n",
        "print(expanded_array)\n",
        "print(\"\\nRepeated Array (3 Channels):\")\n",
        "print(repeated_array)\n"
      ],
      "metadata": {
        "id": "kwv5rVvSj4Ab"
      },
      "execution_count": null,
      "outputs": []
    },
    {
      "cell_type": "markdown",
      "source": [
        "**Building and Compiling the Model**"
      ],
      "metadata": {
        "id": "k-LeJKY7ZGoX"
      }
    },
    {
      "cell_type": "code",
      "source": [
        "base_model = VGG19(weights='imagenet', include_top=False, input_shape=(48, 48, 3))\n",
        "model = Sequential([\n",
        "    base_model,\n",
        "    Flatten(),\n",
        "    Dense(256, activation='relu'),\n",
        "    Dense(10, activation='softmax')\n",
        "])\n",
        "model.compile(optimizer='adam', loss='categorical_crossentropy', metrics=['accuracy'])\n"
      ],
      "metadata": {
        "colab": {
          "base_uri": "https://localhost:8080/"
        },
        "id": "DxOdlluHZII6",
        "outputId": "65232a3d-d805-4fb6-e994-53d593814fbb"
      },
      "execution_count": 3,
      "outputs": [
        {
          "output_type": "stream",
          "name": "stdout",
          "text": [
            "Downloading data from https://storage.googleapis.com/tensorflow/keras-applications/vgg19/vgg19_weights_tf_dim_ordering_tf_kernels_notop.h5\n",
            "80134624/80134624 [==============================] - 1s 0us/step\n"
          ]
        }
      ]
    },
    {
      "cell_type": "markdown",
      "source": [
        "**Training the Model**"
      ],
      "metadata": {
        "id": "AK7Rit-iZbW6"
      }
    },
    {
      "cell_type": "code",
      "source": [
        "history = model.fit(train_images_vgg, train_labels, epochs=5, batch_size=64, validation_split=0.2)\n"
      ],
      "metadata": {
        "colab": {
          "base_uri": "https://localhost:8080/"
        },
        "id": "RVWI-PZUZdZ6",
        "outputId": "7136db00-526f-4bdc-9b54-dda8346b3464"
      },
      "execution_count": null,
      "outputs": [
        {
          "output_type": "stream",
          "name": "stdout",
          "text": [
            "Epoch 1/5\n",
            "750/750 [==============================] - 68s 77ms/step - loss: 0.8492 - accuracy: 0.7340 - val_loss: 0.1400 - val_accuracy: 0.9608\n",
            "Epoch 2/5\n",
            "750/750 [==============================] - 57s 76ms/step - loss: 0.1458 - accuracy: 0.9596 - val_loss: 0.0829 - val_accuracy: 0.9774\n",
            "Epoch 3/5\n",
            "750/750 [==============================] - 57s 76ms/step - loss: 0.0931 - accuracy: 0.9744 - val_loss: 0.0925 - val_accuracy: 0.9783\n",
            "Epoch 4/5\n",
            "210/750 [=======>......................] - ETA: 38s - loss: 0.1028 - accuracy: 0.9721"
          ]
        }
      ]
    },
    {
      "cell_type": "markdown",
      "source": [
        "**Evaluating the Model on the Test Set**"
      ],
      "metadata": {
        "id": "fPTHM_7XZd45"
      }
    },
    {
      "cell_type": "code",
      "source": [
        "test_loss, test_acc = model.evaluate(test_images_vgg, test_labels)\n",
        "print(f'Test accuracy: {test_acc * 100:.2f}%')\n"
      ],
      "metadata": {
        "id": "1bgceaRsZmNu"
      },
      "execution_count": null,
      "outputs": []
    },
    {
      "cell_type": "markdown",
      "source": [
        "**Plotting Training and Validation Accuracy**"
      ],
      "metadata": {
        "id": "6ctREfLeZm1R"
      }
    },
    {
      "cell_type": "code",
      "source": [
        "plt.plot(history.history['accuracy'], label='Training Accuracy')\n",
        "plt.plot(history.history['val_accuracy'], label='Validation Accuracy')\n",
        "plt.xlabel('Epoch')\n",
        "plt.ylabel('Accuracy')\n",
        "plt.legend()\n"
      ],
      "metadata": {
        "id": "gWmeQHO4ZsXu"
      },
      "execution_count": null,
      "outputs": []
    },
    {
      "cell_type": "markdown",
      "source": [
        "**Plotting Confusion Matrix**"
      ],
      "metadata": {
        "id": "bc4mUzFGZtwz"
      }
    },
    {
      "cell_type": "code",
      "source": [
        "y_pred = model.predict(test_images_vgg)\n",
        "y_pred_classes = np.argmax(y_pred, axis=1)\n",
        "y_true = np.argmax(test_labels, axis=1)\n",
        "confusion_mtx = confusion_matrix(y_true, y_pred_classes)\n",
        "plt.figure(figsize=(8, 6))\n",
        "sns.heatmap(confusion_mtx, annot=True, fmt='d', cmap='Blues', xticklabels=np.arange(10), yticklabels=np.arange(10))\n",
        "plt.title('Confusion Matrix')\n",
        "plt.xlabel('Predicted')\n",
        "plt.ylabel('True')\n",
        "plt.show()\n"
      ],
      "metadata": {
        "id": "Mt3vEGJiZxPY"
      },
      "execution_count": null,
      "outputs": []
    }
  ]
}