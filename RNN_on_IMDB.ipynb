{
  "nbformat": 4,
  "nbformat_minor": 0,
  "metadata": {
    "colab": {
      "provenance": [],
      "authorship_tag": "ABX9TyPlb6QADC7itPNyA0kaExPb",
      "include_colab_link": true
    },
    "kernelspec": {
      "name": "python3",
      "display_name": "Python 3"
    },
    "language_info": {
      "name": "python"
    }
  },
  "cells": [
    {
      "cell_type": "markdown",
      "metadata": {
        "id": "view-in-github",
        "colab_type": "text"
      },
      "source": [
        "<a href=\"https://colab.research.google.com/github/YADHUSUDHAN/AIL411-DEEP-LEARNING-LAB-KTU/blob/main/RNN_on_IMDB.ipynb\" target=\"_parent\"><img src=\"https://colab.research.google.com/assets/colab-badge.svg\" alt=\"Open In Colab\"/></a>"
      ]
    },
    {
      "cell_type": "markdown",
      "source": [
        "**Import Libraries**"
      ],
      "metadata": {
        "id": "snc368x1xrLD"
      }
    },
    {
      "cell_type": "code",
      "execution_count": 1,
      "metadata": {
        "id": "o6-VdtxSxZDa"
      },
      "outputs": [],
      "source": [
        "import tensorflow as tf\n",
        "from tensorflow.keras.datasets import imdb\n",
        "from tensorflow.keras.preprocessing.sequence import pad_sequences\n",
        "from tensorflow.keras.models import Sequential\n",
        "from tensorflow.keras.layers import Embedding, SimpleRNN, Dense\n"
      ]
    },
    {
      "cell_type": "markdown",
      "source": [
        "**Load and Preprocess the IMDb Dataset**"
      ],
      "metadata": {
        "id": "V7r7OhLryI7X"
      }
    },
    {
      "cell_type": "code",
      "source": [
        "num_words = 10000\n",
        "(x_train, y_train), (x_test, y_test) = imdb.load_data(num_words=num_words)\n",
        "max_sequence_length = 500\n",
        "x_train = pad_sequences(x_train, maxlen=max_sequence_length)\n",
        "x_test = pad_sequences(x_test, maxlen=max_sequence_length)\n"
      ],
      "metadata": {
        "colab": {
          "base_uri": "https://localhost:8080/"
        },
        "id": "Exw5U3Odygnz",
        "outputId": "992853ee-31c3-4706-8d3d-a9347d12f361"
      },
      "execution_count": 2,
      "outputs": [
        {
          "output_type": "stream",
          "name": "stdout",
          "text": [
            "Downloading data from https://storage.googleapis.com/tensorflow/tf-keras-datasets/imdb.npz\n",
            "17464789/17464789 [==============================] - 0s 0us/step\n"
          ]
        }
      ]
    },
    {
      "cell_type": "markdown",
      "source": [
        "**Build the Model**"
      ],
      "metadata": {
        "id": "4KSylLlKysuE"
      }
    },
    {
      "cell_type": "code",
      "source": [
        "model = Sequential([\n",
        "    Embedding(input_dim=num_words, output_dim=32, input_length=max_sequence_length),\n",
        "    SimpleRNN(32),\n",
        "    Dense(1, activation='sigmoid')\n",
        "])\n"
      ],
      "metadata": {
        "id": "Pfdywq3_zT6D"
      },
      "execution_count": 3,
      "outputs": []
    },
    {
      "cell_type": "markdown",
      "source": [
        "**Compile the Model**"
      ],
      "metadata": {
        "id": "L5-VCqpozWYr"
      }
    },
    {
      "cell_type": "code",
      "source": [
        "model.compile(optimizer='adam', loss='binary_crossentropy', metrics=['accuracy'])\n"
      ],
      "metadata": {
        "id": "UNitOJqTzhVf"
      },
      "execution_count": 4,
      "outputs": []
    },
    {
      "cell_type": "markdown",
      "source": [
        "**Train the Model**"
      ],
      "metadata": {
        "id": "chCC8ar0zlKt"
      }
    },
    {
      "cell_type": "code",
      "source": [
        "model.fit(x_train, y_train, epochs=5, batch_size=64, validation_split=0.2)\n"
      ],
      "metadata": {
        "colab": {
          "base_uri": "https://localhost:8080/"
        },
        "id": "3MVGveQTzs65",
        "outputId": "943260c6-57c0-4c22-df6e-638d86929af3"
      },
      "execution_count": 5,
      "outputs": [
        {
          "output_type": "stream",
          "name": "stdout",
          "text": [
            "Epoch 1/5\n",
            "313/313 [==============================] - 43s 129ms/step - loss: 0.6630 - accuracy: 0.5838 - val_loss: 0.6041 - val_accuracy: 0.6760\n",
            "Epoch 2/5\n",
            "313/313 [==============================] - 42s 134ms/step - loss: 0.4241 - accuracy: 0.8120 - val_loss: 0.5447 - val_accuracy: 0.7218\n",
            "Epoch 3/5\n",
            "313/313 [==============================] - 40s 128ms/step - loss: 0.3030 - accuracy: 0.8806 - val_loss: 0.5312 - val_accuracy: 0.7662\n",
            "Epoch 4/5\n",
            "313/313 [==============================] - 40s 128ms/step - loss: 0.1091 - accuracy: 0.9648 - val_loss: 0.5487 - val_accuracy: 0.7948\n",
            "Epoch 5/5\n",
            "313/313 [==============================] - 42s 135ms/step - loss: 0.0271 - accuracy: 0.9948 - val_loss: 0.6410 - val_accuracy: 0.7918\n"
          ]
        },
        {
          "output_type": "execute_result",
          "data": {
            "text/plain": [
              "<keras.src.callbacks.History at 0x7af755382ec0>"
            ]
          },
          "metadata": {},
          "execution_count": 5
        }
      ]
    },
    {
      "cell_type": "markdown",
      "source": [
        "**Evaluate the Model on Test Data**"
      ],
      "metadata": {
        "id": "pfPwa4Q6zvU8"
      }
    },
    {
      "cell_type": "code",
      "source": [
        "test_loss, test_accuracy = model.evaluate(x_test, y_test)\n",
        "print(f'Test loss: {test_loss}')\n",
        "print(f'Test accuracy: {test_accuracy}')\n"
      ],
      "metadata": {
        "colab": {
          "base_uri": "https://localhost:8080/"
        },
        "id": "TYkev8MJ0bd0",
        "outputId": "147c1940-3cd6-4a2a-85a8-3be91b82f922"
      },
      "execution_count": 8,
      "outputs": [
        {
          "output_type": "stream",
          "name": "stdout",
          "text": [
            "782/782 [==============================] - 18s 24ms/step - loss: 0.6284 - accuracy: 0.7957\n",
            "Test loss: 0.6283745765686035\n",
            "Test accuracy: 0.7957199811935425\n"
          ]
        }
      ]
    }
  ]
}