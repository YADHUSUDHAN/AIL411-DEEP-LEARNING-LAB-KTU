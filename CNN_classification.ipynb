{
  "nbformat": 4,
  "nbformat_minor": 0,
  "metadata": {
    "colab": {
      "provenance": [],
      "authorship_tag": "ABX9TyMss9JVw75TyTGpO3KFsELB",
      "include_colab_link": true
    },
    "kernelspec": {
      "name": "python3",
      "display_name": "Python 3"
    },
    "language_info": {
      "name": "python"
    }
  },
  "cells": [
    {
      "cell_type": "markdown",
      "metadata": {
        "id": "view-in-github",
        "colab_type": "text"
      },
      "source": [
        "<a href=\"https://colab.research.google.com/github/YADHUSUDHAN/AIL411-DEEP-LEARNING-LAB-KTU/blob/main/CNN_classification.ipynb\" target=\"_parent\"><img src=\"https://colab.research.google.com/assets/colab-badge.svg\" alt=\"Open In Colab\"/></a>"
      ]
    },
    {
      "cell_type": "markdown",
      "source": [
        "# Import necessary libraries"
      ],
      "metadata": {
        "id": "j-cW3e4F5e0-"
      }
    },
    {
      "cell_type": "code",
      "execution_count": null,
      "metadata": {
        "id": "3INslxIg4-kF"
      },
      "outputs": [],
      "source": [
        "\n",
        "import numpy as np\n",
        "import tensorflow\n",
        "from tensorflow.keras.datasets import mnist\n",
        "from tensorflow.keras.models import Sequential\n",
        "from tensorflow.keras.layers import Conv2D, MaxPooling2D, Flatten, Dense\n",
        "from tensorflow.keras.utils import to_categorical\n",
        "import matplotlib.pyplot as plt\n"
      ]
    },
    {
      "cell_type": "markdown",
      "source": [
        "# Load and preprocess the MNIST dataset"
      ],
      "metadata": {
        "id": "5ZRxnc4G5jRa"
      }
    },
    {
      "cell_type": "code",
      "source": [
        "\n",
        "(x_train, y_train), (x_test, y_test) = mnist.load_data()\n"
      ],
      "metadata": {
        "id": "q1Rgu0vQ5CJN"
      },
      "execution_count": null,
      "outputs": []
    },
    {
      "cell_type": "markdown",
      "source": [
        "# Normalize pixel values to be in the range [0, 1]"
      ],
      "metadata": {
        "id": "jyh0AVKI5k2R"
      }
    },
    {
      "cell_type": "code",
      "source": [
        "\n",
        "x_train = x_train / 255.0\n",
        "x_test = x_test / 255.0\n"
      ],
      "metadata": {
        "id": "VAc4enqR5FDM"
      },
      "execution_count": null,
      "outputs": []
    },
    {
      "cell_type": "markdown",
      "source": [
        "# One-hot encode the labels"
      ],
      "metadata": {
        "id": "EZRx7ISY5r9s"
      }
    },
    {
      "cell_type": "code",
      "source": [
        "\n",
        "y_train = to_categorical(y_train, 10)\n",
        "y_test = to_categorical(y_test, 10)\n"
      ],
      "metadata": {
        "id": "ppkLpWnm5HsV"
      },
      "execution_count": null,
      "outputs": []
    },
    {
      "cell_type": "markdown",
      "source": [
        "# Create a LeNet-like CNN model"
      ],
      "metadata": {
        "id": "rYIZzS7S5t4Q"
      }
    },
    {
      "cell_type": "code",
      "source": [
        "\n",
        "model = Sequential()\n",
        "model.add(Conv2D(6, kernel_size=(5, 5), activation='relu', input_shape=(28, 28, 1)))\n",
        "model.add(MaxPooling2D(pool_size=(2, 2)))\n",
        "model.add(Conv2D(16, kernel_size=(5, 5), activation='relu'))\n",
        "model.add(MaxPooling2D(pool_size=(2, 2)))\n",
        "model.add(Flatten())\n",
        "model.add(Dense(120, activation='relu'))\n",
        "model.add(Dense(84, activation='relu'))\n",
        "model.add(Dense(10, activation='softmax'))\n"
      ],
      "metadata": {
        "id": "fl7IHHm-5LYY"
      },
      "execution_count": null,
      "outputs": []
    },
    {
      "cell_type": "markdown",
      "source": [
        "# Compile the model"
      ],
      "metadata": {
        "id": "TI074nEc5wC0"
      }
    },
    {
      "cell_type": "code",
      "source": [
        "\n",
        "model.compile(optimizer='adam', loss='categorical_crossentropy', metrics=['accuracy'])\n"
      ],
      "metadata": {
        "id": "Le8R7zsm5MRh"
      },
      "execution_count": null,
      "outputs": []
    },
    {
      "cell_type": "markdown",
      "source": [
        "# Train the model with a validation split"
      ],
      "metadata": {
        "id": "ZsiUvXnw50e4"
      }
    },
    {
      "cell_type": "code",
      "source": [
        "\n",
        "history = model.fit(x_train, y_train, epochs=10, batch_size=64, validation_split=0.2)\n"
      ],
      "metadata": {
        "colab": {
          "base_uri": "https://localhost:8080/"
        },
        "id": "rDxsAZqE5S_p",
        "outputId": "b3cbb72f-6e3b-4bf2-f30f-ab10be3ab90f"
      },
      "execution_count": null,
      "outputs": [
        {
          "output_type": "stream",
          "name": "stdout",
          "text": [
            "Epoch 1/10\n",
            "750/750 [==============================] - 25s 32ms/step - loss: 0.2811 - accuracy: 0.9162 - val_loss: 0.1069 - val_accuracy: 0.9688\n",
            "Epoch 2/10\n",
            "750/750 [==============================] - 24s 33ms/step - loss: 0.0805 - accuracy: 0.9752 - val_loss: 0.0669 - val_accuracy: 0.9797\n",
            "Epoch 3/10\n",
            "750/750 [==============================] - 23s 31ms/step - loss: 0.0575 - accuracy: 0.9822 - val_loss: 0.0632 - val_accuracy: 0.9822\n",
            "Epoch 4/10\n",
            "750/750 [==============================] - 22s 29ms/step - loss: 0.0462 - accuracy: 0.9854 - val_loss: 0.0562 - val_accuracy: 0.9830\n",
            "Epoch 5/10\n",
            "750/750 [==============================] - 23s 31ms/step - loss: 0.0379 - accuracy: 0.9877 - val_loss: 0.0514 - val_accuracy: 0.9848\n",
            "Epoch 6/10\n",
            "750/750 [==============================] - 26s 34ms/step - loss: 0.0311 - accuracy: 0.9903 - val_loss: 0.0502 - val_accuracy: 0.9852\n",
            "Epoch 7/10\n",
            "750/750 [==============================] - 22s 29ms/step - loss: 0.0256 - accuracy: 0.9916 - val_loss: 0.0435 - val_accuracy: 0.9873\n",
            "Epoch 8/10\n",
            "750/750 [==============================] - 24s 32ms/step - loss: 0.0237 - accuracy: 0.9923 - val_loss: 0.0475 - val_accuracy: 0.9871\n",
            "Epoch 9/10\n",
            "750/750 [==============================] - 23s 31ms/step - loss: 0.0199 - accuracy: 0.9936 - val_loss: 0.0516 - val_accuracy: 0.9870\n",
            "Epoch 10/10\n",
            "750/750 [==============================] - 22s 29ms/step - loss: 0.0165 - accuracy: 0.9946 - val_loss: 0.0487 - val_accuracy: 0.9867\n"
          ]
        }
      ]
    },
    {
      "cell_type": "markdown",
      "source": [
        "# Evaluate the model on the test dataset"
      ],
      "metadata": {
        "id": "NHJtUITC53CT"
      }
    },
    {
      "cell_type": "code",
      "source": [
        "\n",
        "test_loss, test_accuracy = model.evaluate(x_test, y_test)\n",
        "print(f'Test accuracy: {test_accuracy * 100:.2f}%')\n"
      ],
      "metadata": {
        "colab": {
          "base_uri": "https://localhost:8080/"
        },
        "id": "laHvD8c25Tza",
        "outputId": "8598cd63-b49f-46aa-f9df-bf06f8271129"
      },
      "execution_count": null,
      "outputs": [
        {
          "output_type": "stream",
          "name": "stdout",
          "text": [
            "313/313 [==============================] - 2s 6ms/step - loss: 0.0386 - accuracy: 0.9879\n",
            "Test accuracy: 98.79%\n"
          ]
        }
      ]
    },
    {
      "cell_type": "markdown",
      "source": [
        "# Make predictions on new images"
      ],
      "metadata": {
        "id": "yYngv4HB55KF"
      }
    },
    {
      "cell_type": "code",
      "source": [
        "\n",
        "predictions = model.predict(x_test)\n"
      ],
      "metadata": {
        "colab": {
          "base_uri": "https://localhost:8080/"
        },
        "id": "Xkfe-41_5Xdh",
        "outputId": "d7029e91-d9da-43a3-bc05-2f2b97a09124"
      },
      "execution_count": null,
      "outputs": [
        {
          "output_type": "stream",
          "name": "stdout",
          "text": [
            "313/313 [==============================] - 2s 6ms/step\n"
          ]
        }
      ]
    },
    {
      "cell_type": "markdown",
      "source": [
        "# Plot some example images along with their predicted and actual labels\n"
      ],
      "metadata": {
        "id": "TOKYTF7L57K3"
      }
    },
    {
      "cell_type": "code",
      "source": [
        "n_samples = 10\n",
        "plt.figure(figsize=(15, 6))\n",
        "for i in range(n_samples):\n",
        "    plt.subplot(2, 5, i + 1)\n",
        "    plt.imshow(x_test[i].reshape(28, 28), cmap='gray')\n",
        "    plt.title(f\"Predicted: {np.argmax(predictions[i])}\\nActual: {np.argmax(y_test[i])}\")\n",
        "    plt.axis('off')\n",
        "plt.show()\n"
      ],
      "metadata": {
        "colab": {
          "base_uri": "https://localhost:8080/",
          "height": 532
        },
        "id": "FprPeyrN5YE6",
        "outputId": "b6893788-6933-4c11-a33e-53d941c977bf"
      },
      "execution_count": null,
      "outputs": [
        {
          "output_type": "display_data",
          "data": {
            "text/plain": [
              "<Figure size 1500x600 with 10 Axes>"
            ],
            "image/png": "[encoded data removed]"
          },
          "metadata": {}
        }
      ]
    }
  ]
}